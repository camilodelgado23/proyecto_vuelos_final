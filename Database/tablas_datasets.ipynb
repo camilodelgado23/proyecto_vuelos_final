{
 "cells": [
  {
   "cell_type": "markdown",
   "metadata": {},
   "source": [
    "# Creacion Tablas Datasets "
   ]
  },
  {
   "cell_type": "markdown",
   "metadata": {},
   "source": [
    "En este Jupyter notebook vamos a crear las tablas en la Data Base PostgeSQL, para los 2 Datasets que usaremos: el original y el transformado  "
   ]
  },
  {
   "cell_type": "markdown",
   "metadata": {},
   "source": [
    "#### Agregamos la ruta a la raíz del proyecto al sys.path para facilitar importaciones "
   ]
  },
  {
   "cell_type": "code",
   "execution_count": 19,
   "metadata": {},
   "outputs": [],
   "source": [
    "import sys\n",
    "import os\n",
    "\n",
    "notebook_dir = os.getcwd()\n",
    "root_dir = os.path.abspath(os.path.join(notebook_dir, '..'))\n",
    "sys.path.append(root_dir)"
   ]
  },
  {
   "cell_type": "markdown",
   "metadata": {},
   "source": [
    "#### Importamos la libreria y la conexion "
   ]
  },
  {
   "cell_type": "code",
   "execution_count": 17,
   "metadata": {},
   "outputs": [
    {
     "name": "stdout",
     "output_type": "stream",
     "text": [
      "Error al conectar con PostgreSQL: could not translate host name \"host.docker.internal\" to address: nodename nor servname provided, or not known\n",
      "\n"
     ]
    }
   ],
   "source": [
    "import pandas as pd\n",
    "import psycopg2\n",
    "from sqlalchemy import create_engine\n",
    "from Database.conexion_BD import create_connection\n",
    "\n",
    "connection = create_connection()"
   ]
  },
  {
   "cell_type": "markdown",
   "metadata": {},
   "source": [
    "#### Creamos la tabla para el Dataset Original "
   ]
  },
  {
   "cell_type": "code",
   "execution_count": 3,
   "metadata": {},
   "outputs": [
    {
     "name": "stdout",
     "output_type": "stream",
     "text": [
      "Conexión exitosa a la base de datos PostgreSQL.\n",
      "Tabla 'flights' creada exitosamente.\n"
     ]
    }
   ],
   "source": [
    "def create_table():\n",
    "    \"\"\"Crea la tabla en la base de datos PostgreSQL usando la conexión dada.\"\"\"\n",
    "    connection = create_connection()\n",
    "    \n",
    "    if connection is not None:\n",
    "        try:\n",
    "            cursor = connection.cursor()\n",
    "            \n",
    "            create_table_query = \"\"\"\n",
    "            CREATE TABLE IF NOT EXISTS flights (\n",
    "                month INT,\n",
    "                day_of_week INT,\n",
    "                dep_del15 INT,\n",
    "                dep_time_blk VARCHAR(100),\n",
    "                distance_group INT,\n",
    "                segment_number INT,\n",
    "                concurrent_flights INT,\n",
    "                number_of_seats INT,\n",
    "                carrier_name VARCHAR(250),\n",
    "                airport_flights_month INT,\n",
    "                airline_flights_month INT,\n",
    "                airline_airport_flights_month INT,\n",
    "                avg_monthly_pass_airport FLOAT,\n",
    "                avg_monthly_pass_airline FLOAT,\n",
    "                flt_attendants_per_pass FLOAT,\n",
    "                ground_serv_per_pass FLOAT,\n",
    "                plane_age FLOAT,\n",
    "                departing_airport VARCHAR(250),\n",
    "                latitude FLOAT,\n",
    "                longitude FLOAT,\n",
    "                previous_airport VARCHAR(250),\n",
    "                prcp FLOAT,\n",
    "                snow FLOAT,\n",
    "                snwd FLOAT,\n",
    "                tmax FLOAT,\n",
    "                awnd FLOAT,\n",
    "                carrier_historical FLOAT,\n",
    "                dep_airport_hist FLOAT,\n",
    "                day_historical FLOAT,\n",
    "                dep_block_hist FLOAT\n",
    "            );\n",
    "            \"\"\"\n",
    "            \n",
    "            cursor.execute(create_table_query)\n",
    "            connection.commit()\n",
    "            print(\"Tabla 'flights' creada exitosamente.\")\n",
    "        \n",
    "        except (Exception, psycopg2.Error) as error:\n",
    "            print(f\"Error al crear la tabla: {error}\")\n",
    "        \n",
    "        finally:\n",
    "            if cursor:\n",
    "                cursor.close()\n",
    "            if connection:\n",
    "                connection.close()\n",
    "\n",
    "if __name__ == \"__main__\":\n",
    "    create_table()"
   ]
  },
  {
   "cell_type": "markdown",
   "metadata": {},
   "source": [
    "#### Creamos la tabla para el Dataset Transformado "
   ]
  },
  {
   "cell_type": "code",
   "execution_count": 11,
   "metadata": {},
   "outputs": [
    {
     "name": "stdout",
     "output_type": "stream",
     "text": [
      "Error al conectar con PostgreSQL: could not translate host name \"host.docker.internal\" to address: nodename nor servname provided, or not known\n",
      "\n"
     ]
    }
   ],
   "source": [
    "def create_table():\n",
    "    \"\"\"Crea la tabla 'flights_limpio' en la base de datos PostgreSQL usando la conexión dada.\"\"\"\n",
    "    connection = create_connection()\n",
    "    \n",
    "    if connection is not None:\n",
    "        try:\n",
    "            cursor = connection.cursor()\n",
    "            \n",
    "            create_table_query = \"\"\"\n",
    "            CREATE TABLE IF NOT EXISTS flights_limpio (\n",
    "                id SERIAL PRIMARY KEY,\n",
    "                month VARCHAR(50),\n",
    "                day_of_week VARCHAR(50),\n",
    "                dep_del15 INT,\n",
    "                dep_time_blk VARCHAR(100),\n",
    "                distance_group INT,\n",
    "                segment_number INT,\n",
    "                concurrent_flights INT,\n",
    "                number_of_seats INT,\n",
    "                carrier_name VARCHAR(250),\n",
    "                airport_flights_month INT,\n",
    "                airline_flights_month INT,\n",
    "                airline_airport_flights_month INT,\n",
    "                avg_monthly_pass_airport FLOAT,\n",
    "                avg_monthly_pass_airline FLOAT,\n",
    "                plane_age FLOAT,\n",
    "                departing_airport VARCHAR(250),\n",
    "                prcp FLOAT,\n",
    "                snow FLOAT,\n",
    "                tmax FLOAT,\n",
    "                awnd FLOAT\n",
    "            );\n",
    "            \"\"\"\n",
    "            \n",
    "            cursor.execute(create_table_query)\n",
    "            connection.commit()\n",
    "            print(\"Tabla 'flights_limpio' creada exitosamente.\")\n",
    "        \n",
    "        except (Exception, psycopg2.Error) as error:\n",
    "            print(f\"Error al crear la tabla: {error}\")\n",
    "        \n",
    "        finally:\n",
    "            if cursor:\n",
    "                cursor.close()\n",
    "            if connection:\n",
    "                connection.close()\n",
    "\n",
    "if __name__ == \"__main__\":\n",
    "    create_table()"
   ]
  },
  {
   "cell_type": "markdown",
   "metadata": {},
   "source": [
    "## Crear Tablas Dimensionales"
   ]
  },
  {
   "cell_type": "code",
   "execution_count": 12,
   "metadata": {},
   "outputs": [
    {
     "name": "stdout",
     "output_type": "stream",
     "text": [
      "Error al conectar con PostgreSQL: could not translate host name \"host.docker.internal\" to address: nodename nor servname provided, or not known\n",
      "\n"
     ]
    }
   ],
   "source": [
    "def create_tables():\n",
    "    \"\"\"Crea las tablas de dimensiones y hechos en PostgreSQL.\"\"\"\n",
    "    connection = create_connection()\n",
    "    \n",
    "    if connection is not None:\n",
    "        try:\n",
    "            cursor = connection.cursor()\n",
    "            \n",
    "            # Crear tabla dim_date\n",
    "            create_dim_date_query = \"\"\"\n",
    "            CREATE TABLE IF NOT EXISTS dim_date (\n",
    "                date_key VARCHAR(100) PRIMARY KEY,\n",
    "                month VARCHAR(50),\n",
    "                day_of_week VARCHAR(50),\n",
    "                dep_time_blk VARCHAR(100)\n",
    "            );\n",
    "            \"\"\"\n",
    "            \n",
    "            # Crear tabla dim_airline\n",
    "            create_dim_airline_query = \"\"\"\n",
    "            CREATE TABLE IF NOT EXISTS dim_airline (\n",
    "                airline_key INT PRIMARY KEY,\n",
    "                airline_name VARCHAR(250),\n",
    "                icao_code VARCHAR(10),\n",
    "                country_iso2 VARCHAR(10),\n",
    "                status VARCHAR(50)\n",
    "            );\n",
    "            \"\"\"\n",
    "            \n",
    "            # Crear tabla dim_airport\n",
    "            create_dim_airport_query = \"\"\"\n",
    "            CREATE TABLE IF NOT EXISTS dim_airport (\n",
    "                airport_id INT PRIMARY KEY,\n",
    "                departing_airport VARCHAR(250),\n",
    "                latitude FLOAT,\n",
    "                longitude FLOAT\n",
    "            );\n",
    "            \"\"\"\n",
    "            \n",
    "            # Crear tabla dim_weather\n",
    "            create_dim_weather_query = \"\"\"\n",
    "            CREATE TABLE IF NOT EXISTS dim_weather (\n",
    "                weather_key INT PRIMARY KEY,\n",
    "                prcp FLOAT,\n",
    "                snow FLOAT,\n",
    "                tmax FLOAT,\n",
    "                awnd FLOAT\n",
    "            );\n",
    "            \"\"\"\n",
    "            \n",
    "            # Crear tabla de hechos flight_fact\n",
    "            create_flight_fact_query = \"\"\"\n",
    "            CREATE TABLE IF NOT EXISTS flight_fact (\n",
    "                flight_id SERIAL PRIMARY KEY,\n",
    "                dep_del15 INT,\n",
    "                distance_group INT,\n",
    "                segment_number INT,\n",
    "                concurrent_flights INT,\n",
    "                number_of_seats INT,\n",
    "                airport_flights_month INT,\n",
    "                airline_flights_month INT,\n",
    "                airline_airport_flights_month INT,\n",
    "                avg_monthly_pass_airport FLOAT,\n",
    "                avg_monthly_pass_airline FLOAT,\n",
    "                plane_age FLOAT,\n",
    "                dim_date_key VARCHAR(100) REFERENCES dim_date(date_key),\n",
    "                dim_airline_key INT REFERENCES dim_airline(airline_key),\n",
    "                dim_airport_key INT REFERENCES dim_airport(airport_id),\n",
    "                dim_weather_key INT REFERENCES dim_weather(weather_key)\n",
    "            );\n",
    "            \"\"\"\n",
    "            \n",
    "            # Ejecutar las consultas para crear cada tabla\n",
    "            cursor.execute(create_dim_date_query)\n",
    "            cursor.execute(create_dim_airline_query)\n",
    "            cursor.execute(create_dim_airport_query)\n",
    "            cursor.execute(create_dim_weather_query)\n",
    "            cursor.execute(create_flight_fact_query)\n",
    "            \n",
    "            # Confirmar los cambios\n",
    "            connection.commit()\n",
    "            print(\"Tablas creadas exitosamente.\")\n",
    "        \n",
    "        except (Exception, psycopg2.Error) as error:\n",
    "            print(f\"Error al crear las tablas: {error}\")\n",
    "        \n",
    "        finally:\n",
    "            if cursor:\n",
    "                cursor.close()\n",
    "            if connection:\n",
    "                connection.close()\n",
    "\n",
    "if __name__ == \"__main__\":\n",
    "    create_tables()"
   ]
  }
 ],
 "metadata": {
  "kernelspec": {
   "display_name": "venv",
   "language": "python",
   "name": "python3"
  },
  "language_info": {
   "codemirror_mode": {
    "name": "ipython",
    "version": 3
   },
   "file_extension": ".py",
   "mimetype": "text/x-python",
   "name": "python",
   "nbconvert_exporter": "python",
   "pygments_lexer": "ipython3",
   "version": "3.12.7"
  }
 },
 "nbformat": 4,
 "nbformat_minor": 2
}
